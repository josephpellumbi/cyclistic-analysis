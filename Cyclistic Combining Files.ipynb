{
 "cells": [
  {
   "cell_type": "code",
   "execution_count": 1,
   "id": "0d6e4307",
   "metadata": {},
   "outputs": [],
   "source": [
    "import pandas as pd\n",
    "import os\n",
    "\n",
    "# Folder where all your CSV files are stored\n",
    "folder_path = '/Users/josephpellumbi/Downloads/trip_data/Original'\n",
    "\n",
    "# List to hold data from each CSV\n",
    "data_frames = []\n"
   ]
  },
  {
   "cell_type": "code",
   "execution_count": 2,
   "id": "64e2c8cf",
   "metadata": {},
   "outputs": [
    {
     "data": {
      "text/plain": [
       "[]"
      ]
     },
     "execution_count": 2,
     "metadata": {},
     "output_type": "execute_result"
    }
   ],
   "source": [
    "data_frames"
   ]
  },
  {
   "cell_type": "code",
   "execution_count": 3,
   "id": "8eec21b4",
   "metadata": {},
   "outputs": [],
   "source": [
    "# Iterate through each file in the folder\n",
    "for filename in os.listdir(folder_path):\n",
    "    if filename.endswith('.csv'):\n",
    "        # Read each CSV file\n",
    "        file_path = os.path.join(folder_path, filename)\n",
    "        df = pd.read_csv(file_path)\n",
    "        data_frames.append(df)"
   ]
  },
  {
   "cell_type": "code",
   "execution_count": 5,
   "id": "24ceed8d",
   "metadata": {},
   "outputs": [
    {
     "name": "stdout",
     "output_type": "stream",
     "text": [
      "Combined CSV file has been saved successfully.\n"
     ]
    }
   ],
   "source": [
    "# Combine all dataframes into one\n",
    "combined_df = pd.concat(data_frames, ignore_index=True)\n",
    "\n",
    "# Save the combined dataframe into a new CSV file\n",
    "combined_df.to_csv('/Users/josephpellumbi/Downloads/trip_data/Original/combined_file.csv', index=False)\n",
    "\n",
    "print(f\"Combined CSV file has been saved successfully.\")"
   ]
  }
 ],
 "metadata": {
  "kernelspec": {
   "display_name": "Python 3 (ipykernel)",
   "language": "python",
   "name": "python3"
  },
  "language_info": {
   "codemirror_mode": {
    "name": "ipython",
    "version": 3
   },
   "file_extension": ".py",
   "mimetype": "text/x-python",
   "name": "python",
   "nbconvert_exporter": "python",
   "pygments_lexer": "ipython3",
   "version": "3.11.5"
  }
 },
 "nbformat": 4,
 "nbformat_minor": 5
}
