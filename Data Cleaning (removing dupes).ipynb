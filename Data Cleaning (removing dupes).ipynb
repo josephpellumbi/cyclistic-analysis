{
 "cells": [
  {
   "cell_type": "code",
   "execution_count": 2,
   "id": "8083ad19-4ed9-4ef6-aa0a-a53b75a4b42d",
   "metadata": {
    "tags": []
   },
   "outputs": [
    {
     "data": {
      "text/plain": [
       "4143123"
      ]
     },
     "execution_count": 2,
     "metadata": {},
     "output_type": "execute_result"
    }
   ],
   "source": [
    "import pandas as pd\n",
    "import sqlite3\n",
    "\n",
    "# Step 1: Load the CSV into a pandas DataFrame\n",
    "df = pd.read_csv('/Users/josephpellumbi/Downloads/cyclistic_sql.csv', sep=';')\n",
    "\n",
    "# Step 2: Create an in-memory SQLite database and a connection\n",
    "conn = sqlite3.connect(':memory:')\n",
    "\n",
    "# Step 3: Load the DataFrame into SQLite as a SQL table\n",
    "df.to_sql('cyclistic', conn, index=False, if_exists='replace')\n"
   ]
  },
  {
   "cell_type": "code",
   "execution_count": 4,
   "id": "f9b89351-9eb3-47f1-9ee0-6c04b53aa3d4",
   "metadata": {
    "tags": []
   },
   "outputs": [
    {
     "name": "stdout",
     "output_type": "stream",
     "text": [
      "Total number of rows before deduplication: 4143123\n"
     ]
    }
   ],
   "source": [
    "# Step 4: Count the total number of rows before deleting duplicates\n",
    "initial_count_query = \"SELECT COUNT(*) FROM cyclistic\"\n",
    "initial_count = pd.read_sql_query(initial_count_query, conn).iloc[0, 0]\n",
    "print(f\"Total number of rows before deduplication: {initial_count}\")\n"
   ]
  },
  {
   "cell_type": "code",
   "execution_count": 6,
   "id": "4074c7ac-1e37-400c-9266-101e1130ea26",
   "metadata": {
    "tags": []
   },
   "outputs": [],
   "source": [
    "# Step 5: Write the SQL query to delete duplicates, keeping only the first occurrence\n",
    "delete_query = \"\"\"\n",
    "DELETE FROM cyclistic\n",
    "WHERE rowid NOT IN (\n",
    "    SELECT MIN(rowid)\n",
    "    FROM cyclistic\n",
    "    GROUP BY ride_id\n",
    ");\n",
    "\"\"\"\n",
    "\n",
    "# Step 6: Execute the delete query\n",
    "conn.execute(delete_query)\n",
    "conn.commit()\n"
   ]
  },
  {
   "cell_type": "code",
   "execution_count": 8,
   "id": "99fce7f9-f386-4059-859e-7c416d9e5408",
   "metadata": {
    "tags": []
   },
   "outputs": [
    {
     "name": "stdout",
     "output_type": "stream",
     "text": [
      "Total number of rows after deduplication: 4143002\n",
      "Number of duplicate rows deleted: 121\n"
     ]
    }
   ],
   "source": [
    "# Step 7: Count the total number of rows after deleting duplicates\n",
    "final_count_query = \"SELECT COUNT(*) FROM cyclistic\"\n",
    "final_count = pd.read_sql_query(final_count_query, conn).iloc[0, 0]\n",
    "print(f\"Total number of rows after deduplication: {final_count}\")\n",
    "\n",
    "# Step 8: Calculate the number of deleted duplicate rows\n",
    "duplicates_deleted = initial_count - final_count\n",
    "print(f\"Number of duplicate rows deleted: {duplicates_deleted}\")\n"
   ]
  },
  {
   "cell_type": "code",
   "execution_count": 10,
   "id": "70ad882f-044f-4ce0-80f2-816e659f000e",
   "metadata": {
    "tags": []
   },
   "outputs": [
    {
     "name": "stdout",
     "output_type": "stream",
     "text": [
      "Deduplicated data has been saved to /Users/josephpellumbi/Downloads/deduplicated_file.csv\n"
     ]
    }
   ],
   "source": [
    "# Step 9: Retrieve the deduplicated data from the SQLite database\n",
    "deduplicated_df = pd.read_sql_query(\"SELECT * FROM cyclistic\", conn)\n",
    "\n",
    "# Step 10: Save the deduplicated data to a new CSV file\n",
    "output_file_path = '/Users/josephpellumbi/Downloads/deduplicated_file.csv'\n",
    "deduplicated_df.to_csv(output_file_path, index=False)\n",
    "\n",
    "# Step 11: Output the path to the new deduplicated file\n",
    "print(f\"Deduplicated data has been saved to {output_file_path}\")\n"
   ]
  },
  {
   "cell_type": "code",
   "execution_count": null,
   "id": "31652acf-10a9-4a20-bb87-3cda39c1a589",
   "metadata": {},
   "outputs": [],
   "source": [
    "\n",
    "# Step 12: Optional - Close the SQLite connection\n",
    "#conn.close()"
   ]
  }
 ],
 "metadata": {
  "kernelspec": {
   "display_name": "Python 3 (ipykernel)",
   "language": "python",
   "name": "python3"
  },
  "language_info": {
   "codemirror_mode": {
    "name": "ipython",
    "version": 3
   },
   "file_extension": ".py",
   "mimetype": "text/x-python",
   "name": "python",
   "nbconvert_exporter": "python",
   "pygments_lexer": "ipython3",
   "version": "3.11.5"
  }
 },
 "nbformat": 4,
 "nbformat_minor": 5
}
